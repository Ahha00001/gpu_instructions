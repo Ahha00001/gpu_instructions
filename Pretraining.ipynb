{
 "cells": [
  {
   "cell_type": "code",
   "execution_count": 1,
   "id": "171f5c2d-e418-478c-88e1-242797dbb385",
   "metadata": {
    "scrolled": true
   },
   "outputs": [],
   "source": [
    "\n",
    "from data.data_ready import create_dataloaders\n",
    "from train.dino_train import train_dino"
   ]
  },
  {
   "cell_type": "code",
   "execution_count": 2,
   "id": "37b1bd36-b37f-433c-88d6-fa31f2cd0c03",
   "metadata": {},
   "outputs": [],
   "source": [
    "synthetic_loader, real_loader = create_dataloaders(batch_size=128, num_workers=4)"
   ]
  },
  {
   "cell_type": "code",
   "execution_count": null,
   "id": "da399b8d-94c5-4d84-a1a8-174b2fe780f5",
   "metadata": {},
   "outputs": [],
   "source": [
    "train_dino(\n",
    "    dataloader=synthetic_loader,\n",
    "    epochs=100,\n",
    "    out_dim=256,\n",
    "    save_dir=\"checkpoints/synthetic\",\n",
    "    log_dir=\"logs/synthetic\"\n",
    ")"
   ]
  },
  {
   "cell_type": "code",
   "execution_count": null,
   "id": "9b7b1ef1",
   "metadata": {},
   "outputs": [],
   "source": [
    "# Jupyter Cell 4\n",
    "train_dino(\n",
    "    dataloader=real_loader,\n",
    "    epochs=100,\n",
    "    out_dim=256,\n",
    "    save_dir=\"checkpoints/real\",\n",
    "    log_dir=\"logs/real\"\n",
    ")\n"
   ]
  }
 ],
 "metadata": {
  "kernelspec": {
   "display_name": "Python 3",
   "language": "python",
   "name": "python3"
  },
  "language_info": {
   "codemirror_mode": {
    "name": "ipython",
    "version": 3
   },
   "file_extension": ".py",
   "mimetype": "text/x-python",
   "name": "python",
   "nbconvert_exporter": "python",
   "pygments_lexer": "ipython3",
   "version": "3.13.5"
  }
 },
 "nbformat": 4,
 "nbformat_minor": 5
}
